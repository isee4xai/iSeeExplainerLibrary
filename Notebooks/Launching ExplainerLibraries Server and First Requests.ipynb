{
 "cells": [
  {
   "cell_type": "markdown",
   "id": "b75c1f60",
   "metadata": {},
   "source": [
    "## Launching ExplainerLibraries Server"
   ]
  },
  {
   "cell_type": "markdown",
   "id": "4de44e26",
   "metadata": {},
   "source": [
    "Change the current working directory to ExplainerLibraries."
   ]
  },
  {
   "cell_type": "code",
   "execution_count": null,
   "id": "1692f2c6",
   "metadata": {},
   "outputs": [],
   "source": [
    "#%cd <path_to_ExplainerLibraries>\n",
    "%cd C:\\Users\\jesus\\Desktop\\ExplainerLibraries-dev"
   ]
  },
  {
   "cell_type": "markdown",
   "id": "32425079",
   "metadata": {},
   "source": [
    "Install requirements using pip. __Note__: You need at least 2GB available in your disk to install all the requirements."
   ]
  },
  {
   "cell_type": "code",
   "execution_count": null,
   "id": "e780ecb0",
   "metadata": {},
   "outputs": [],
   "source": [
    "pip install -r requirements.txt"
   ]
  },
  {
   "cell_type": "code",
   "execution_count": null,
   "id": "bcc0e90f",
   "metadata": {},
   "outputs": [],
   "source": [
    "%run -i app.py"
   ]
  },
  {
   "cell_type": "markdown",
   "id": "e92fac94",
   "metadata": {},
   "source": [
    "The server should now be running on http://localhost:5000/. Any request made to the server will be displayed below the cell in the logs. **Note that once you launch the server, the execution will be locked to that cell**.  You can continue with the rest of this notebook by opening in another tab. "
   ]
  },
  {
   "cell_type": "markdown",
   "id": "208d716c",
   "metadata": {},
   "source": [
    "## First Requests"
   ]
  },
  {
   "cell_type": "code",
   "execution_count": null,
   "id": "8826dfcd",
   "metadata": {},
   "outputs": [],
   "source": [
    "import requests"
   ]
  },
  {
   "cell_type": "markdown",
   "id": "8a3b8092",
   "metadata": {},
   "source": [
    "#### GET Requests"
   ]
  },
  {
   "cell_type": "markdown",
   "id": "4efa22a2",
   "metadata": {},
   "source": [
    "You can make a GET request to visualize the **README** of the project."
   ]
  },
  {
   "cell_type": "code",
   "execution_count": null,
   "id": "0c9186df",
   "metadata": {},
   "outputs": [],
   "source": [
    "url = \"http://localhost:5000/\"\n",
    "\n",
    "payload={}\n",
    "headers = {}\n",
    "\n",
    "response = requests.request(\"GET\", url, headers=headers, data=payload)"
   ]
  },
  {
   "cell_type": "code",
   "execution_count": null,
   "id": "7904a3f2",
   "metadata": {},
   "outputs": [],
   "source": [
    "from IPython.display import display, HTML\n",
    "display(HTML(response.text))"
   ]
  },
  {
   "cell_type": "markdown",
   "id": "a4fe6841",
   "metadata": {},
   "source": [
    "Get the **list of available explainers** with a GET request to http://localhost:5000/Explainers"
   ]
  },
  {
   "cell_type": "code",
   "execution_count": null,
   "id": "aa99b5ff",
   "metadata": {},
   "outputs": [],
   "source": [
    "url = \"http://localhost:5000/Explainers\"\n",
    "\n",
    "payload={}\n",
    "headers = {}\n",
    "\n",
    "response = requests.request(\"GET\", url, headers=headers, data=payload)\n",
    "print(response.text)"
   ]
  },
  {
   "cell_type": "markdown",
   "id": "0b78bf45",
   "metadata": {},
   "source": [
    "Get the **documentation for a particular explainer** with a GET request to http://localhost:5000/<explainer\\_name\\>"
   ]
  },
  {
   "cell_type": "code",
   "execution_count": null,
   "id": "474ead00",
   "metadata": {},
   "outputs": [],
   "source": [
    "import json\n",
    "url = \"http://localhost:5000/Tabular/LIME\"\n",
    "\n",
    "payload={}\n",
    "headers = {}\n",
    "\n",
    "response = requests.request(\"GET\", url, headers=headers, data=payload)\n",
    "json.loads(response.text)"
   ]
  },
  {
   "cell_type": "markdown",
   "id": "4f4f5555",
   "metadata": {},
   "source": [
    "#### POST Requests\n",
    "\n",
    "To generate explanations, you can make a POST request to an explainer URL passing the arguments specified in its documentation. For instance, using the PSYCHOLOGY example model (Refer to [this notebook](https://github.com/isee4xai/ExplainerLibraries/blob/dev/Notebooks/Example%20Models%20Notebooks/Psychology%20(Tabular).ipynb)), we can use Tabular/LIME to generate explanations of a specific data point or instance. You can refer to more examples for different models in the [Example Models Notebooks](https://github.com/isee4xai/ExplainerLibraries/tree/dev/Notebooks/Example%20Models%20Notebooks)."
   ]
  },
  {
   "cell_type": "code",
   "execution_count": null,
   "id": "3b71a41b",
   "metadata": {},
   "outputs": [],
   "source": [
    "url = \"http://localhost:5000/Tabular/LIME\"\n",
    "\n",
    "payload={\n",
    "    'id': 'PSYCHOLOGY',\n",
    "    'instance': '[0, 0, 1, 0, 1, 1, 1, 1, 0, 1, 0, 0, 1, 1, 1, 1, 0, 1, 1, 1, 1, 0,1, 0, 0, 1, 1, 1, 1, 1, 0, 1, 0, 0, 1, 0, 1, 1, 1, 1, 0, 0, 1, 1,1, 1, 1, 1, 1, 0, 0, 0, 1, 1, 0, 0, 0, 0, 1, 1, 1, 0, 1, 1, 1, 0,1, 1, 1, 1, 0, 0, 0, 1, 0, 1, 1, 1, 1, 1, 1, 1, 1, 0, 1, 1, 0, 0,0, 1, 1, 1, 0, 0, 1, 1, 1, 1, 0, 1, 1, 1]',\n",
    "    'params': '{\"output_classes\":[2]}'\n",
    "        }\n",
    "files=[]\n",
    "headers = {}\n",
    "\n",
    "response = requests.request(\"POST\", url, headers=headers, data=payload, files=files)\n",
    "\n",
    "ret=json.loads(response.text)\n",
    "ret"
   ]
  },
  {
   "cell_type": "markdown",
   "id": "48bd033a",
   "metadata": {},
   "source": [
    "If the response contains the fields 'plot_html' or 'plot_png', we can **visualize the explanation by making a GET request** to the associated url. Keep in mind that you need to specify the Accept header so it matches the file extension."
   ]
  },
  {
   "cell_type": "code",
   "execution_count": null,
   "id": "0b830a19",
   "metadata": {},
   "outputs": [],
   "source": [
    "from PIL import Image\n",
    "import io\n",
    "url = ret[\"plot_png\"]\n",
    "\n",
    "payload={}\n",
    "headers = {\n",
    "  'Accept': 'image/png'\n",
    "}\n",
    "\n",
    "response = requests.request(\"GET\", url, headers=headers, data=payload)\n",
    "\n",
    "stream = io.BytesIO(response.content)\n",
    "Image.open(stream)"
   ]
  }
 ],
 "metadata": {
  "kernelspec": {
   "display_name": "Python 3 (ipykernel)",
   "language": "python",
   "name": "python3"
  },
  "language_info": {
   "codemirror_mode": {
    "name": "ipython",
    "version": 3
   },
   "file_extension": ".py",
   "mimetype": "text/x-python",
   "name": "python",
   "nbconvert_exporter": "python",
   "pygments_lexer": "ipython3",
   "version": "3.9.12"
  }
 },
 "nbformat": 4,
 "nbformat_minor": 5
}
