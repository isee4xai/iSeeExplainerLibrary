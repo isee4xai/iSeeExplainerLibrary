{
 "cells": [
  {
   "cell_type": "code",
   "execution_count": null,
   "id": "209c46a4",
   "metadata": {},
   "outputs": [],
   "source": [
    "#%cd <path_to_ExplainerLibraries>\n",
    "%cd C:\\Users\\jesus\\Desktop\\ExplainerLibraries-dev"
   ]
  },
  {
   "cell_type": "markdown",
   "id": "8b8300ea",
   "metadata": {},
   "source": [
    "# Psychology Model Example"
   ]
  },
  {
   "cell_type": "markdown",
   "id": "469cd367",
   "metadata": {},
   "source": [
    "This machine learning model aims identify depression and other psychological disorders based on a questionnaire with 102 True-or-False affirmations that and individual may relate to. \n",
    "A 𝐓𝐚𝐫𝐠𝐞𝐭 value of 0,1, or 2 indicates a low, medium or high risk of depression respectively."
   ]
  },
  {
   "cell_type": "code",
   "execution_count": null,
   "id": "08bb0a15",
   "metadata": {},
   "outputs": [],
   "source": [
    "%cd Models/PSYCHOLOGY"
   ]
  },
  {
   "cell_type": "code",
   "execution_count": null,
   "id": "daf9b30a",
   "metadata": {},
   "outputs": [],
   "source": [
    "import joblib\n",
    "import json\n",
    "\n",
    "model= joblib.load(\"PSYCHOLOGY.pkl\")\n",
    "data= joblib.load(\"PSYCHOLOGY_data.pkl\")\n",
    "\n",
    "with open(\"PSYCHOLOGY.json\") as file:\n",
    "    model_attributes= json.load(file)"
   ]
  },
  {
   "cell_type": "markdown",
   "id": "c9f60965",
   "metadata": {},
   "source": [
    "This model is an MLP classifier (neural network) with a Scikit-learn backend. All features are categorical, where each value is the answer of a participant to a particular affirmation. A value of 1 represents \"True\", and a value of 0 represents \"False\"."
   ]
  },
  {
   "cell_type": "code",
   "execution_count": null,
   "id": "379afd52",
   "metadata": {},
   "outputs": [],
   "source": [
    "model"
   ]
  },
  {
   "cell_type": "code",
   "execution_count": null,
   "id": "386911a6",
   "metadata": {},
   "outputs": [],
   "source": [
    "model_attributes"
   ]
  },
  {
   "cell_type": "code",
   "execution_count": null,
   "id": "a67169bf",
   "metadata": {
    "scrolled": true
   },
   "outputs": [],
   "source": [
    "data"
   ]
  },
  {
   "cell_type": "markdown",
   "id": "b0ba26a2",
   "metadata": {},
   "source": [
    "# Getting Explanations\n",
    "\n",
    "For this section, you need to have launched the server previously. You can see how to launch it [here](https://github.com/isee4xai/ExplainerLibraries/blob/dev/Notebooks/Launching%20ExplainerLibraries%20Server%20and%20First%20Requests.ipynb)."
   ]
  },
  {
   "cell_type": "code",
   "execution_count": null,
   "id": "644ab9b8",
   "metadata": {},
   "outputs": [],
   "source": [
    "import requests\n",
    "from PIL import Image\n",
    "import io"
   ]
  },
  {
   "cell_type": "markdown",
   "id": "a100a42f",
   "metadata": {},
   "source": [
    "### Importance"
   ]
  },
  {
   "cell_type": "code",
   "execution_count": null,
   "id": "7f1d2b5c",
   "metadata": {},
   "outputs": [],
   "source": [
    "# Documentation\n",
    "url = \"http://localhost:5000/Tabular/Importance\"\n",
    "\n",
    "payload={}\n",
    "headers = {}\n",
    "\n",
    "response = requests.request(\"GET\", url, headers=headers, data=payload)\n",
    "json.loads(response.text)"
   ]
  },
  {
   "cell_type": "code",
   "execution_count": null,
   "id": "f47e215c",
   "metadata": {},
   "outputs": [],
   "source": [
    "\n",
    "# POST request\n",
    "url = \"http://localhost:5000/Tabular/Importance\"\n",
    "\n",
    "payload={'id': 'PSYCHOLOGY',\n",
    "'params': '{}'}\n",
    "files=[\n",
    "\n",
    "]\n",
    "headers = {}\n",
    "\n",
    "response = requests.request(\"POST\", url, headers=headers, data=payload, files=files)\n",
    "\n",
    "ret=json.loads(response.text)\n",
    "ret\n"
   ]
  },
  {
   "cell_type": "code",
   "execution_count": null,
   "id": "391b0842",
   "metadata": {},
   "outputs": [],
   "source": [
    "# View Explanation\n",
    "url = ret[\"plot_png\"]\n",
    "\n",
    "payload={}\n",
    "headers = {\n",
    "  'Accept': 'image/png'\n",
    "}\n",
    "\n",
    "response = requests.request(\"GET\", url, headers=headers, data=payload)\n",
    "\n",
    "stream = io.BytesIO(response.content)\n",
    "Image.open(stream)"
   ]
  },
  {
   "cell_type": "markdown",
   "id": "3debd256",
   "metadata": {},
   "source": [
    "### ALE"
   ]
  },
  {
   "cell_type": "code",
   "execution_count": null,
   "id": "54faffaf",
   "metadata": {},
   "outputs": [],
   "source": [
    "# Documentation\n",
    "url = \"http://localhost:5000/Tabular/ALE\"\n",
    "\n",
    "payload={}\n",
    "headers = {}\n",
    "\n",
    "response = requests.request(\"GET\", url, headers=headers, data=payload)\n",
    "json.loads(response.text)"
   ]
  },
  {
   "cell_type": "code",
   "execution_count": null,
   "id": "98a627ac",
   "metadata": {},
   "outputs": [],
   "source": [
    "\n",
    "# POST request\n",
    "url = \"http://localhost:5000/Tabular/ALE\"\n",
    "\n",
    "payload={'id': 'PSYCHOLOGY',\n",
    "'params': '{\"features_to_show\":[54,59,32,17]}'}\n",
    "files=[\n",
    "\n",
    "]\n",
    "headers = {}\n",
    "\n",
    "response = requests.request(\"POST\", url, headers=headers, data=payload, files=files)\n",
    "\n",
    "ret=json.loads(response.text)\n",
    "ret\n"
   ]
  },
  {
   "cell_type": "code",
   "execution_count": null,
   "id": "0c3556d9",
   "metadata": {},
   "outputs": [],
   "source": [
    "# View Explanation\n",
    "url = ret[\"plot_png\"]\n",
    "\n",
    "payload={}\n",
    "headers = {\n",
    "  'Accept': 'image/png'\n",
    "}\n",
    "\n",
    "response = requests.request(\"GET\", url, headers=headers, data=payload)\n",
    "\n",
    "stream = io.BytesIO(response.content)\n",
    "Image.open(stream)"
   ]
  },
  {
   "cell_type": "markdown",
   "id": "7af74ce7",
   "metadata": {},
   "source": []
  },
  {
   "cell_type": "markdown",
   "id": "35a77cab",
   "metadata": {},
   "source": [
    "### For local explainers, we need to provide an instance. The instance must have the same shape as a row of the dataset, but excluding the Target column.\n",
    "For example, we can use an instance that is predicted to belong to class 2 (High risk of depression)."
   ]
  },
  {
   "cell_type": "code",
   "execution_count": null,
   "id": "a0796e8f",
   "metadata": {},
   "outputs": [],
   "source": [
    "model.predict([[0, 0, 1, 0, 1, 1, 1, 1, 0, 1, 0, 0, 1, 1, 1, 1, 0, 1, 1, 1, 1, 0,\n",
    "        1, 0, 0, 1, 1, 1, 1, 1, 0, 1, 0, 0, 1, 0, 1, 1, 1, 1, 0, 0, 1, 1,\n",
    "        1, 1, 1, 1, 1, 0, 0, 0, 1, 1, 0, 0, 0, 0, 1, 1, 1, 0, 1, 1, 1, 0,\n",
    "        1, 1, 1, 1, 0, 0, 0, 1, 0, 1, 1, 1, 1, 1, 1, 1, 1, 0, 1, 1, 0, 0,\n",
    "        0, 1, 1, 1, 0, 0, 1, 1, 1, 1, 0, 1, 1, 1]])"
   ]
  },
  {
   "cell_type": "code",
   "execution_count": null,
   "id": "4d085113",
   "metadata": {},
   "outputs": [],
   "source": [
    "## You can also choose an instance directly from the dataset\n",
    "import numpy as np\n",
    "instance=data.iloc[[2]].to_numpy()\n",
    "instance=np.delete(instance,-1)"
   ]
  },
  {
   "cell_type": "code",
   "execution_count": null,
   "id": "2daf9718",
   "metadata": {},
   "outputs": [],
   "source": [
    "model.predict([instance])"
   ]
  },
  {
   "cell_type": "markdown",
   "id": "b338d3e5",
   "metadata": {},
   "source": [
    "### LIME"
   ]
  },
  {
   "cell_type": "code",
   "execution_count": null,
   "id": "3b081e84",
   "metadata": {},
   "outputs": [],
   "source": [
    "# Documentation\n",
    "url = \"http://localhost:5000/Tabular/LIME\"\n",
    "\n",
    "payload={}\n",
    "headers = {}\n",
    "\n",
    "response = requests.request(\"GET\", url, headers=headers, data=payload)\n",
    "json.loads(response.text)"
   ]
  },
  {
   "cell_type": "code",
   "execution_count": null,
   "id": "feeead64",
   "metadata": {},
   "outputs": [],
   "source": [
    "\n",
    "# POST request\n",
    "url = \"http://localhost:5000/Tabular/LIME\"\n",
    "\n",
    "payload={'id': 'PSYCHOLOGY',\n",
    "         'instance':'[0, 0, 1, 0, 1, 1, 1, 1, 0, 1, 0, 0, 1, 1, 1, 1, 0, 1, 1, 1, 1, 0,1, 0, 0, 1, 1, 1, 1, 1, 0, 1, 0, 0, 1, 0, 1, 1, 1, 1, 0, 0, 1, 1,1, 1, 1, 1, 1, 0, 0, 0, 1, 1, 0, 0, 0, 0, 1, 1, 1, 0, 1, 1, 1, 0,1, 1, 1, 1, 0, 0, 0, 1, 0, 1, 1, 1, 1, 1, 1, 1, 1, 0, 1, 1, 0, 0,0, 1, 1, 1, 0, 0, 1, 1, 1, 1, 0, 1, 1, 1]',\n",
    "'params': '{\"output_classes\":[2]}'}\n",
    "files=[\n",
    "\n",
    "]\n",
    "headers = {}\n",
    "\n",
    "response = requests.request(\"POST\", url, headers=headers, data=payload, files=files)\n",
    "\n",
    "ret=json.loads(response.text)\n",
    "ret\n"
   ]
  },
  {
   "cell_type": "code",
   "execution_count": null,
   "id": "285f9453",
   "metadata": {},
   "outputs": [],
   "source": [
    "# View Explanation\n",
    "url = ret[\"plot_png\"]\n",
    "\n",
    "payload={}\n",
    "headers = {\n",
    "  'Accept': 'image/png'\n",
    "}\n",
    "\n",
    "response = requests.request(\"GET\", url, headers=headers, data=payload)\n",
    "\n",
    "stream = io.BytesIO(response.content)\n",
    "Image.open(stream)"
   ]
  },
  {
   "cell_type": "markdown",
   "id": "f3eb0706",
   "metadata": {},
   "source": [
    "### KernelSHAP Local"
   ]
  },
  {
   "cell_type": "code",
   "execution_count": null,
   "id": "cdfc8fc1",
   "metadata": {},
   "outputs": [],
   "source": [
    "# Documentation\n",
    "url = \"http://localhost:5000/Tabular/KernelSHAPLocal\"\n",
    "\n",
    "payload={}\n",
    "headers = {}\n",
    "\n",
    "response = requests.request(\"GET\", url, headers=headers, data=payload)\n",
    "json.loads(response.text)"
   ]
  },
  {
   "cell_type": "code",
   "execution_count": null,
   "id": "fa5bc20a",
   "metadata": {},
   "outputs": [],
   "source": [
    "\n",
    "# POST request\n",
    "url = \"http://localhost:5000/Tabular/KernelSHAPLocal\"\n",
    "\n",
    "payload={'id': 'PSYCHOLOGY',\n",
    "         'instance':'[0, 0, 1, 0, 1, 1, 1, 1, 0, 1, 0, 0, 1, 1, 1, 1, 0, 1, 1, 1, 1, 0,1, 0, 0, 1, 1, 1, 1, 1, 0, 1, 0, 0, 1, 0, 1, 1, 1, 1, 0, 0, 1, 1,1, 1, 1, 1, 1, 0, 0, 0, 1, 1, 0, 0, 0, 0, 1, 1, 1, 0, 1, 1, 1, 0,1, 1, 1, 1, 0, 0, 0, 1, 0, 1, 1, 1, 1, 1, 1, 1, 1, 0, 1, 1, 0, 0,0, 1, 1, 1, 0, 0, 1, 1, 1, 1, 0, 1, 1, 1]',\n",
    "'params': '{\"output_index\":2,\"plot_type\":\"waterfall\"}'}\n",
    "\n",
    "files=[\n",
    "\n",
    "]\n",
    "headers = {}\n",
    "\n",
    "response = requests.request(\"POST\", url, headers=headers, data=payload, files=files)\n",
    "\n",
    "ret=json.loads(response.text)\n",
    "ret\n"
   ]
  },
  {
   "cell_type": "code",
   "execution_count": null,
   "id": "82626fae",
   "metadata": {},
   "outputs": [],
   "source": [
    "# View Explanation\n",
    "url = ret[\"plot_png\"]\n",
    "\n",
    "payload={}\n",
    "headers = {\n",
    "  'Accept': 'image/png'\n",
    "}\n",
    "\n",
    "response = requests.request(\"GET\", url, headers=headers, data=payload)\n",
    "\n",
    "stream = io.BytesIO(response.content)\n",
    "Image.open(stream)"
   ]
  },
  {
   "cell_type": "markdown",
   "id": "968d75a8",
   "metadata": {},
   "source": [
    "### Anchors"
   ]
  },
  {
   "cell_type": "code",
   "execution_count": null,
   "id": "1b66e5a1",
   "metadata": {},
   "outputs": [],
   "source": [
    "# Documentation\n",
    "url = \"http://localhost:5000/Tabular/Anchors\"\n",
    "\n",
    "payload={}\n",
    "headers = {}\n",
    "\n",
    "response = requests.request(\"GET\", url, headers=headers, data=payload)\n",
    "json.loads(response.text)"
   ]
  },
  {
   "cell_type": "code",
   "execution_count": null,
   "id": "dbb57af8",
   "metadata": {},
   "outputs": [],
   "source": [
    "\n",
    "# POST request\n",
    "url = \"http://localhost:5000/Tabular/Anchors\"\n",
    "\n",
    "payload={'id': 'PSYCHOLOGY',\n",
    "         'instance':'[0, 0, 1, 0, 1, 1, 1, 1, 0, 1, 0, 0, 1, 1, 1, 1, 0, 1, 1, 1, 1, 0,1, 0, 0, 1, 1, 1, 1, 1, 0, 1, 0, 0, 1, 0, 1, 1, 1, 1, 0, 0, 1, 1,1, 1, 1, 1, 1, 0, 0, 0, 1, 1, 0, 0, 0, 0, 1, 1, 1, 0, 1, 1, 1, 0,1, 1, 1, 1, 0, 0, 0, 1, 0, 1, 1, 1, 1, 1, 1, 1, 1, 0, 1, 1, 0, 0,0, 1, 1, 1, 0, 0, 1, 1, 1, 1, 0, 1, 1, 1]',\n",
    "'params': '{}'}\n",
    "files=[\n",
    "\n",
    "]\n",
    "headers = {}\n",
    "\n",
    "response = requests.request(\"POST\", url, headers=headers, data=payload, files=files)\n",
    "\n",
    "ret=json.loads(response.text)\n",
    "ret\n"
   ]
  },
  {
   "cell_type": "code",
   "execution_count": null,
   "id": "2d0246ca",
   "metadata": {},
   "outputs": [],
   "source": []
  }
 ],
 "metadata": {
  "kernelspec": {
   "display_name": "Python 3 (ipykernel)",
   "language": "python",
   "name": "python3"
  },
  "language_info": {
   "codemirror_mode": {
    "name": "ipython",
    "version": 3
   },
   "file_extension": ".py",
   "mimetype": "text/x-python",
   "name": "python",
   "nbconvert_exporter": "python",
   "pygments_lexer": "ipython3",
   "version": "3.9.12"
  }
 },
 "nbformat": 4,
 "nbformat_minor": 5
}
